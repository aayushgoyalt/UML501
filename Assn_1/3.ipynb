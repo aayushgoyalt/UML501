{
 "cells": [
  {
   "cell_type": "code",
   "execution_count": 1,
   "id": "b9842397",
   "metadata": {},
   "outputs": [],
   "source": [
    "import numpy as np"
   ]
  },
  {
   "cell_type": "code",
   "execution_count": 4,
   "id": "1a70218e",
   "metadata": {},
   "outputs": [
    {
     "name": "stdout",
     "output_type": "stream",
     "text": [
      "sorted array: [ 10  16  16  52  54  62 453]\n",
      "sorted indices: [ 10  16  16  52  54  62 453]\n",
      "4 smallest elements: [10 16 16 52]\n",
      "5 largest elements: [ 16  52  54  62 453]\n"
     ]
    }
   ],
   "source": [
    "array = np.array([10, 52, 62, 16, 16, 54, 453])\n",
    "\n",
    "sort_arr = np.sort(array)\n",
    "print(\"sorted array:\", sort_arr)\n",
    "\n",
    "sort_ind = np.argsort(array)\n",
    "print(\"sorted indices:\", sort_arr)\n",
    "\n",
    "small_4 = np.sort(array)[:4]\n",
    "print(\"4 smallest elements:\", small_4)\n",
    "\n",
    "large_5 = np.sort(array)[-5:]\n",
    "print(\"5 largest elements:\", large_5)"
   ]
  },
  {
   "cell_type": "code",
   "execution_count": 5,
   "id": "42db4b4b",
   "metadata": {},
   "outputs": [
    {
     "name": "stdout",
     "output_type": "stream",
     "text": [
      "Integer elements: [1. 2. 3. 2.]\n",
      "Float elements: [1.2 2.2]\n"
     ]
    }
   ],
   "source": [
    "array = np.array([1.0, 1.2, 2.2, 2.0, 3.0, 2.0])\n",
    "\n",
    "integers = array[array == array.astype(int)]\n",
    "print(\"Integer elements:\", integers)\n",
    "\n",
    "floats = array[array != array.astype(int)]\n",
    "print(\"Float elements:\", floats)\n"
   ]
  }
 ],
 "metadata": {
  "kernelspec": {
   "display_name": "venv (3.13.1)",
   "language": "python",
   "name": "python3"
  },
  "language_info": {
   "codemirror_mode": {
    "name": "ipython",
    "version": 3
   },
   "file_extension": ".py",
   "mimetype": "text/x-python",
   "name": "python",
   "nbconvert_exporter": "python",
   "pygments_lexer": "ipython3",
   "version": "3.13.1"
  }
 },
 "nbformat": 4,
 "nbformat_minor": 5
}
