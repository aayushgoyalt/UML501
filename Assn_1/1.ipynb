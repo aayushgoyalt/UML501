{
 "cells": [
  {
   "cell_type": "code",
   "execution_count": 3,
   "id": "8aa70011",
   "metadata": {},
   "outputs": [],
   "source": [
    "import numpy as np"
   ]
  },
  {
   "cell_type": "code",
   "execution_count": 5,
   "id": "831c960b",
   "metadata": {},
   "outputs": [
    {
     "name": "stdout",
     "output_type": "stream",
     "text": [
      "array is  [1 2 3 6 4 5]\n",
      "reversed array is  [5 4 6 3 2 1]\n"
     ]
    }
   ],
   "source": [
    "# 1 (a)\n",
    "arr = np.array([1, 2, 3, 6, 4, 5])\n",
    "rev_arr = arr[::-1]\n",
    "\n",
    "print(\"array is \",arr)\n",
    "print(\"reversed array is \",rev_arr)"
   ]
  },
  {
   "cell_type": "code",
   "execution_count": 8,
   "id": "8ba023ca",
   "metadata": {},
   "outputs": [
    {
     "name": "stdout",
     "output_type": "stream",
     "text": [
      "array using flatten():  [1 2 3 2 4 5 1 2 3]\n",
      "array using ravel():  [1 2 3 2 4 5 1 2 3]\n"
     ]
    }
   ],
   "source": [
    "# 1 (b)\n",
    "arr = np.array([[1, 2, 3], [2, 4, 5], [1, 2, 3]])\n",
    "\n",
    "flat1 = arr.flatten()\n",
    "flat2 = arr.ravel()\n",
    "\n",
    "print(\"array using flatten(): \",flat1)\n",
    "print(\"array using ravel(): \",flat2)"
   ]
  },
  {
   "cell_type": "code",
   "execution_count": null,
   "id": "f47ac42d",
   "metadata": {},
   "outputs": [
    {
     "name": "stdout",
     "output_type": "stream",
     "text": [
      "Arrays are equal: True\n"
     ]
    }
   ],
   "source": [
    "# 1 (c)\n",
    "arr1 = np.array([[1, 2], [3, 4]])\n",
    "arr2 = np.array([[1, 2], [3, 4]])\n",
    "\n",
    "print(\"Arrays are equal:\", np.array_equal(arr1, arr2))"
   ]
  },
  {
   "cell_type": "code",
   "execution_count": 10,
   "id": "9657f06d",
   "metadata": {},
   "outputs": [
    {
     "name": "stdout",
     "output_type": "stream",
     "text": [
      "x: [1 2 3 4 5 1 2 1 1]\n",
      "Most frequent element in x: 1\n",
      "y: [1 1 1 2 3 4 2 4 3 3]\n",
      "Most frequent element in y: 1\n"
     ]
    }
   ],
   "source": [
    "# 1 (d)\n",
    "x=np.array([1,2,3,4,5,1,2,1,1])\n",
    "y=np.array([1,1,1,2,3,4,2,4,3,3])\n",
    "\n",
    "print(\"x:\",x)\n",
    "x_cnt=np.bincount(x)\n",
    "print(\"Most frequent element in x:\", np.argmax(x_cnt))\n",
    "\n",
    "print(\"y:\",y)\n",
    "y_cnt=np.bincount(y)\n",
    "print(\"Most frequent element in y:\", np.argmax(y_cnt))"
   ]
  },
  {
   "cell_type": "code",
   "execution_count": 12,
   "id": "268ac919",
   "metadata": {},
   "outputs": [
    {
     "name": "stdout",
     "output_type": "stream",
     "text": [
      "[[ 4  1  9]\n",
      " [12  3  1]\n",
      " [ 4  5  6]]\n",
      "Total Sum: 45\n",
      "Row-wise Sum: [[14]\n",
      " [16]\n",
      " [15]]\n",
      "Column-wise Sum: [[20  9 16]]\n"
     ]
    }
   ],
   "source": [
    "# 1 (e)\n",
    "gfg = np.matrix('[4, 1, 9; 12, 3, 1; 4, 5, 6]')\n",
    "print(gfg)\n",
    "total_sum = gfg.sum()\n",
    "print(\"Total Sum:\", total_sum)\n",
    "row_sum = gfg.sum(axis=1)\n",
    "print(\"Row-wise Sum:\", row_sum)\n",
    "col_sum = gfg.sum(axis=0)\n",
    "print(\"Column-wise Sum:\", col_sum)"
   ]
  },
  {
   "cell_type": "code",
   "execution_count": 13,
   "id": "95eac10c",
   "metadata": {},
   "outputs": [
    {
     "name": "stdout",
     "output_type": "stream",
     "text": [
      "Sum of diagonal elements: 176\n",
      "Eigenvalues: [98.16835147 28.097044   49.73460452]\n",
      "Eigenvectors:\n",
      " [[ 0.4574917   0.34637121 -0.15017693]\n",
      " [ 0.28447814 -0.72784061 -0.4852124 ]\n",
      " [ 0.84248058  0.59184038  0.8614034 ]]\n",
      "Inverse of matrix:\n",
      " [[ 0.02404141 -0.00911212 -0.00444671]\n",
      " [-0.01667882  0.02966905  0.0024785 ]\n",
      " [ 0.00631287 -0.01603732  0.01217379]]\n",
      "Determinant: 137180.0000000001\n"
     ]
    }
   ],
   "source": [
    "# 1 (f)\n",
    "n_array = np.array([[55, 25, 15], [30, 44, 2], [11, 45, 77]])\n",
    "\n",
    "# i. Diagonal Sum\n",
    "diag_sum = np.trace(n_array)\n",
    "\n",
    "# ii & iii. Eigenvalues and Eigenvectors\n",
    "eig_vals, eig_vecs = np.linalg.eig(n_array)\n",
    "\n",
    "# iv. Inverse\n",
    "inv = np.linalg.inv(n_array)\n",
    "\n",
    "# v. Determinant\n",
    "det = np.linalg.det(n_array)\n",
    "\n",
    "print(\"Sum of diagonal elements:\", diag_sum)\n",
    "print(\"Eigenvalues:\", eig_vals)\n",
    "print(\"Eigenvectors:\\n\", eig_vecs)\n",
    "print(\"Inverse of matrix:\\n\", inv)\n",
    "print(\"Determinant:\", det)"
   ]
  },
  {
   "cell_type": "code",
   "execution_count": 15,
   "id": "2ea8db1c",
   "metadata": {},
   "outputs": [
    {
     "name": "stdout",
     "output_type": "stream",
     "text": [
      "Matrix multiplication: [[16 19]\n",
      " [26 31]]\n",
      "Covariance matrix: [[0.66666667 1.        ]\n",
      " [1.         1.66666667]]\n",
      "Matrix multiplication: [[16 19  5]\n",
      " [26 31  8]\n",
      " [46 55 14]]\n",
      "Covariance matrix: [[2.16666667 0.23333333]\n",
      " [0.23333333 5.36666667]]\n"
     ]
    }
   ],
   "source": [
    "# 1(g)\n",
    "p1 = np.array([[1, 2], [2, 3]])\n",
    "q1 = np.array([[4, 5], [6, 7]])\n",
    "\n",
    "multi1 = np.dot(p1, q1)\n",
    "cov1 = np.cov(p1.flatten(), q1.flatten())\n",
    "print(\"Matrix multiplication:\", multi1)\n",
    "print(\"Covariance matrix:\", cov1)\n",
    "\n",
    "p2 = np.array([[1, 2], [2, 3], [4, 5]])\n",
    "q2 = np.array([[4, 5, 1], [6, 7, 2]])\n",
    "\n",
    "multi2 = np.dot(p2, q2)\n",
    "cov2 = np.cov(p2.flatten(), q2.flatten())\n",
    "print(\"Matrix multiplication:\", multi2)\n",
    "print(\"Covariance matrix:\", cov2)"
   ]
  },
  {
   "cell_type": "code",
   "execution_count": 18,
   "id": "374b709a",
   "metadata": {},
   "outputs": [
    {
     "name": "stdout",
     "output_type": "stream",
     "text": [
      "Inner product: [[17 52]\n",
      " [13 62]]\n",
      "Outer product: [[ 2 10  0 10 20  6]\n",
      " [ 3 15  0 15 30  9]\n",
      " [ 4 20  0 20 40 12]\n",
      " [ 3 15  0 15 30  9]\n",
      " [ 2 10  0 10 20  6]\n",
      " [ 9 45  0 45 90 27]]\n",
      "Cartesian product: [[ 2  3  4  1  5  0]\n",
      " [ 2  3  4  5 10  3]\n",
      " [ 3  2  9  1  5  0]\n",
      " [ 3  2  9  5 10  3]]\n"
     ]
    }
   ],
   "source": [
    "# 1(h)\n",
    "from itertools import product\n",
    "\n",
    "\n",
    "x = np.array([[2, 3, 4], [3, 2, 9]])\n",
    "y = np.array([[1, 5, 0], [5, 10, 3]])\n",
    "\n",
    "inner = np.inner(x, y)\n",
    "outer = np.outer(x.flatten(), y.flatten())\n",
    "cartesian = np.array([np.concatenate([a, b]) for a, b in product(x, y)])\n",
    "\n",
    "print(\"Inner product:\", inner)\n",
    "print(\"Outer product:\", outer)\n",
    "print(\"Cartesian product:\", cartesian)"
   ]
  }
 ],
 "metadata": {
  "kernelspec": {
   "display_name": "venv (3.13.1)",
   "language": "python",
   "name": "python3"
  },
  "language_info": {
   "codemirror_mode": {
    "name": "ipython",
    "version": 3
   },
   "file_extension": ".py",
   "mimetype": "text/x-python",
   "name": "python",
   "nbconvert_exporter": "python",
   "pygments_lexer": "ipython3",
   "version": "3.13.1"
  }
 },
 "nbformat": 4,
 "nbformat_minor": 5
}
