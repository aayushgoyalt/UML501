{
 "cells": [
  {
   "cell_type": "code",
   "execution_count": 3,
   "id": "0556da5e",
   "metadata": {},
   "outputs": [
    {
     "name": "stdout",
     "output_type": "stream",
     "text": [
      "Saved RGB image channels as separate text files.\n"
     ]
    }
   ],
   "source": [
    "from PIL import Image\n",
    "import numpy as np\n",
    "\n",
    "def img_to_array(path):\n",
    "    img = Image.open(path)\n",
    "    arr = np.array(img)\n",
    "\n",
    "    if len(arr.shape) == 2:\n",
    "        # Grayscale\n",
    "        np.savetxt(\"image_greyscale.txt\", arr, fmt='%d')\n",
    "        print(\"Saved grayscale image as text.\")\n",
    "    \n",
    "    elif len(arr.shape) == 3:    \n",
    "        # RGB\n",
    "        for i in range(3):\n",
    "            np.savetxt(f\"image_rgb_channel_{i}.txt\", arr[:, :, i], fmt='%d')\n",
    "        print(\"Saved RGB image channels as separate text files.\")\n",
    "\n",
    "    else:\n",
    "        print(\"Unsupported image format.\")\n",
    "\n",
    "\n",
    "img_to_array(\"test.png\")"
   ]
  },
  {
   "cell_type": "code",
   "execution_count": 10,
   "id": "ec0db92a",
   "metadata": {},
   "outputs": [
    {
     "name": "stdout",
     "output_type": "stream",
     "text": [
      "(2235, 3360) (2235, 3360) (2235, 3360)\n"
     ]
    }
   ],
   "source": [
    "rgb0 = np.loadtxt(\"image_rgb_channel_0.txt\")\n",
    "rgb1 = np.loadtxt(\"image_rgb_channel_1.txt\")\n",
    "rgb2 = np.loadtxt(\"image_rgb_channel_2.txt\")\n",
    "print(rgb0.shape, rgb1.shape, rgb2.shape)"
   ]
  }
 ],
 "metadata": {
  "kernelspec": {
   "display_name": "venv (3.13.1)",
   "language": "python",
   "name": "python3"
  },
  "language_info": {
   "codemirror_mode": {
    "name": "ipython",
    "version": 3
   },
   "file_extension": ".py",
   "mimetype": "text/x-python",
   "name": "python",
   "nbconvert_exporter": "python",
   "pygments_lexer": "ipython3",
   "version": "3.13.1"
  }
 },
 "nbformat": 4,
 "nbformat_minor": 5
}
