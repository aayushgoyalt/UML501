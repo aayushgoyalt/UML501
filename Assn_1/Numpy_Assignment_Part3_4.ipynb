{
 "cells": [
  {
   "cell_type": "markdown",
   "id": "491db09b",
   "metadata": {},
   "source": [
    "# Assignment 1 - Based on NumPy\n",
    "## Part 3 & 4: Searching, Sorting, Image Operations"
   ]
  },
  {
   "cell_type": "markdown",
   "id": "d9cc6bef",
   "metadata": {},
   "source": [
    "### Q3 (a): Operations on array `[10, 52, 62, 16, 16, 54, 453]`"
   ]
  },
  {
   "cell_type": "code",
   "execution_count": null,
   "id": "87d90e76",
   "metadata": {},
   "outputs": [],
   "source": [
    "import numpy as np\n",
    "\n",
    "array = np.array([10, 52, 62, 16, 16, 54, 453])\n",
    "\n",
    "# i. Sorted array\n",
    "sorted_array = np.sort(array)\n",
    "\n",
    "# ii. Indices of sorted array\n",
    "sorted_indices = np.argsort(array)\n",
    "\n",
    "# iii. 4 smallest elements\n",
    "smallest_4 = np.sort(array)[:4]\n",
    "\n",
    "# iv. 5 largest elements\n",
    "largest_5 = np.sort(array)[-5:]\n",
    "\n",
    "print(\"Sorted array:\", sorted_array)\n",
    "print(\"Indices of sorted array:\", sorted_indices)\n",
    "print(\"4 smallest elements:\", smallest_4)\n",
    "print(\"5 largest elements:\", largest_5)"
   ]
  },
  {
   "cell_type": "markdown",
   "id": "e86a54be",
   "metadata": {},
   "source": [
    "### Q3 (b): Filter integer and float elements"
   ]
  },
  {
   "cell_type": "code",
   "execution_count": null,
   "id": "f060943b",
   "metadata": {},
   "outputs": [],
   "source": [
    "array = np.array([1.0, 1.2, 2.2, 2.0, 3.0, 2.0])\n",
    "\n",
    "# Integer elements: values where value == int(value)\n",
    "integers = array[array == array.astype(int)]\n",
    "\n",
    "# Float elements: values where value != int(value)\n",
    "floats = array[array != array.astype(int)]\n",
    "\n",
    "print(\"Integer elements:\", integers)\n",
    "print(\"Float elements:\", floats)"
   ]
  },
  {
   "cell_type": "markdown",
   "id": "c448c4d1",
   "metadata": {},
   "source": [
    "### Q4 (a): `img_to_array(path)` function and save as text"
   ]
  },
  {
   "cell_type": "code",
   "execution_count": null,
   "id": "fb7a4eef",
   "metadata": {},
   "outputs": [],
   "source": [
    "from PIL import Image\n",
    "import numpy as np\n",
    "\n",
    "def img_to_array(path):\n",
    "    img = Image.open(path)\n",
    "    arr = np.array(img)\n",
    "\n",
    "    if len(arr.shape) == 2:\n",
    "        # Grayscale\n",
    "        np.savetxt(\"image_greyscale.txt\", arr, fmt='%d')\n",
    "        print(\"Saved grayscale image as text.\")\n",
    "    elif len(arr.shape) == 3:\n",
    "        # RGB\n",
    "        for i in range(3):\n",
    "            np.savetxt(f\"image_rgb_channel_{i}.txt\", arr[:, :, i], fmt='%d')\n",
    "        print(\"Saved RGB image channels as separate text files.\")\n",
    "    else:\n",
    "        print(\"Unsupported image format.\")\n",
    "\n",
    "# Example: Uncomment and provide your path\n",
    "# img_to_array(\"sample_image.jpg\")"
   ]
  },
  {
   "cell_type": "markdown",
   "id": "26aff2ba",
   "metadata": {},
   "source": [
    "### Q4 (b): Load the saved text file into Jupyter Notebook"
   ]
  },
  {
   "cell_type": "code",
   "execution_count": null,
   "id": "b1490178",
   "metadata": {},
   "outputs": [],
   "source": [
    "# Example: load grayscale or individual RGB channels\n",
    "# grayscale = np.loadtxt(\"image_greyscale.txt\")\n",
    "# rgb0 = np.loadtxt(\"image_rgb_channel_0.txt\")\n",
    "# rgb1 = np.loadtxt(\"image_rgb_channel_1.txt\")\n",
    "# rgb2 = np.loadtxt(\"image_rgb_channel_2.txt\")\n",
    "\n",
    "# print(grayscale)\n",
    "# or\n",
    "# print(rgb0.shape, rgb1.shape, rgb2.shape)"
   ]
  }
 ],
 "metadata": {},
 "nbformat": 4,
 "nbformat_minor": 5
}
