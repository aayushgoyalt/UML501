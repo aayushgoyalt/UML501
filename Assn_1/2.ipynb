{
 "cells": [
  {
   "cell_type": "code",
   "execution_count": 1,
   "id": "9427d379",
   "metadata": {},
   "outputs": [],
   "source": [
    "import numpy as np"
   ]
  },
  {
   "cell_type": "code",
   "execution_count": 8,
   "id": "053ceb8e",
   "metadata": {},
   "outputs": [
    {
     "name": "stdout",
     "output_type": "stream",
     "text": [
      "[[ 1 -2  3]\n",
      " [-4  5 -6]]\n",
      "absolute array :  [[1 2 3]\n",
      " [4 5 6]]\n",
      "\n",
      "25th, 50th, 75th Percentile (flattened): [-3.5 -0.5  2.5]\n",
      "Percentile per column:\n",
      " [[-2.75 -0.25 -3.75]\n",
      " [-1.5   1.5  -1.5 ]\n",
      " [-0.25  3.25  0.75]]\n",
      "Percentile per row:\n",
      " [[-0.5 -5. ]\n",
      " [ 1.  -4. ]\n",
      " [ 2.   0.5]]\n",
      "\n",
      "Flattened - Mean: -0.5 , Median: -0.5 , Std Dev: 3.8622100754188224\n",
      "Column-wise - Mean: [-1.5  1.5 -1.5] , Median: [-1.5  1.5 -1.5] , Std Dev: [2.5 3.5 4.5]\n",
      "Row-wise - Mean: [ 0.66666667 -1.66666667] , Median: [ 1. -4.] , Std Dev: [2.05480467 4.78423336]\n"
     ]
    }
   ],
   "source": [
    "array = np.array([[1, -2, 3],[-4, 5, -6]])\n",
    "print(array)\n",
    "\n",
    "abs_arr= np.abs(array)\n",
    "print(\"absolute array : \", abs_arr)\n",
    "\n",
    "flat = array.flatten()\n",
    "\n",
    "p_flat = np.percentile(flat, [25, 50, 75])\n",
    "print(\"\\n25th, 50th, 75th Percentile (flattened):\", p_flat)\n",
    "p_col = np.percentile(array, [25, 50, 75], axis=0)\n",
    "print(\"Percentile per column:\\n\", p_col)\n",
    "p_row = np.percentile(array, [25, 50, 75], axis=1)\n",
    "print(\"Percentile per row:\\n\", p_row)\n",
    "\n",
    "\n",
    "mean_flat = np.mean(flat)\n",
    "median_flat = np.median(flat)\n",
    "std_flat = np.std(flat)\n",
    "\n",
    "mean_col = np.mean(array, axis=0)\n",
    "median_col = np.median(array, axis=0)\n",
    "std_col = np.std(array, axis=0)\n",
    "\n",
    "mean_row = np.mean(array, axis=1)\n",
    "median_row = np.median(array, axis=1)\n",
    "std_row = np.std(array, axis=1)\n",
    "\n",
    "print(\"\\nFlattened - Mean:\", mean_flat, \", Median:\", median_flat, \", Std Dev:\", std_flat)\n",
    "print(\"Column-wise - Mean:\", mean_col, \", Median:\", median_col, \", Std Dev:\", std_col)\n",
    "print(\"Row-wise - Mean:\", mean_row, \", Median:\", median_row, \", Std Dev:\", std_row)"
   ]
  },
  {
   "cell_type": "code",
   "execution_count": 9,
   "id": "ec69d72d",
   "metadata": {},
   "outputs": [
    {
     "name": "stdout",
     "output_type": "stream",
     "text": [
      "Original: [-1.8 -1.6 -0.5  0.5  1.6  1.8  3. ]\n",
      "Floor: [-2. -2. -1.  0.  1.  1.  3.]\n",
      "Ceiling: [-1. -1. -0.  1.  2.  2.  3.]\n",
      "Truncated: [-1. -1. -0.  0.  1.  1.  3.]\n",
      "Rounded: [-2. -2. -0.  0.  2.  2.  3.]\n"
     ]
    }
   ],
   "source": [
    "a = np.array([-1.8, -1.6, -0.5, 0.5,1.6, 1.8, 3.0])\n",
    "\n",
    "print(\"Original:\", a)\n",
    "\n",
    "floor = np.floor(a)\n",
    "print(\"Floor:\", floor)\n",
    "\n",
    "ceil = np.ceil(a)\n",
    "print(\"Ceiling:\", ceil)\n",
    "\n",
    "trunc = np.trunc(a)\n",
    "print(\"Truncated:\", trunc)\n",
    "\n",
    "rounded = np.round(a)\n",
    "print(\"Rounded:\", rounded)"
   ]
  }
 ],
 "metadata": {
  "kernelspec": {
   "display_name": "venv (3.13.1)",
   "language": "python",
   "name": "python3"
  },
  "language_info": {
   "codemirror_mode": {
    "name": "ipython",
    "version": 3
   },
   "file_extension": ".py",
   "mimetype": "text/x-python",
   "name": "python",
   "nbconvert_exporter": "python",
   "pygments_lexer": "ipython3",
   "version": "3.13.1"
  }
 },
 "nbformat": 4,
 "nbformat_minor": 5
}
